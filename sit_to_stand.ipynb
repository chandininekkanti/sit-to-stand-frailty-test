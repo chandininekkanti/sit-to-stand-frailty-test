{
 "cells": [
  {
   "cell_type": "code",
   "execution_count": 1,
   "id": "a2b5eab0-6937-4487-858d-e5f9de636e6c",
   "metadata": {},
   "outputs": [
    {
     "name": "stdout",
     "output_type": "stream",
     "text": [
      "Requirement already satisfied: mediapipe in /opt/anaconda3/lib/python3.12/site-packages (0.10.21)\n",
      "Requirement already satisfied: opencv-python in /opt/anaconda3/lib/python3.12/site-packages (4.10.0.84)\n",
      "Requirement already satisfied: numpy in /opt/anaconda3/lib/python3.12/site-packages (1.26.4)\n",
      "Requirement already satisfied: absl-py in /opt/anaconda3/lib/python3.12/site-packages (from mediapipe) (2.1.0)\n",
      "Requirement already satisfied: attrs>=19.1.0 in /opt/anaconda3/lib/python3.12/site-packages (from mediapipe) (23.1.0)\n",
      "Requirement already satisfied: flatbuffers>=2.0 in /opt/anaconda3/lib/python3.12/site-packages (from mediapipe) (24.3.25)\n",
      "Requirement already satisfied: jax in /opt/anaconda3/lib/python3.12/site-packages (from mediapipe) (0.7.1)\n",
      "Requirement already satisfied: jaxlib in /opt/anaconda3/lib/python3.12/site-packages (from mediapipe) (0.7.1)\n",
      "Requirement already satisfied: matplotlib in /opt/anaconda3/lib/python3.12/site-packages (from mediapipe) (3.8.4)\n",
      "Requirement already satisfied: opencv-contrib-python in /opt/anaconda3/lib/python3.12/site-packages (from mediapipe) (4.11.0.86)\n",
      "Requirement already satisfied: protobuf<5,>=4.25.3 in /opt/anaconda3/lib/python3.12/site-packages (from mediapipe) (4.25.8)\n",
      "Requirement already satisfied: sounddevice>=0.4.4 in /opt/anaconda3/lib/python3.12/site-packages (from mediapipe) (0.5.2)\n",
      "Requirement already satisfied: sentencepiece in /opt/anaconda3/lib/python3.12/site-packages (from mediapipe) (0.2.1)\n",
      "Requirement already satisfied: CFFI>=1.0 in /opt/anaconda3/lib/python3.12/site-packages (from sounddevice>=0.4.4->mediapipe) (1.16.0)\n",
      "Requirement already satisfied: ml_dtypes>=0.5.0 in /opt/anaconda3/lib/python3.12/site-packages (from jax->mediapipe) (0.5.3)\n",
      "Requirement already satisfied: opt_einsum in /opt/anaconda3/lib/python3.12/site-packages (from jax->mediapipe) (3.4.0)\n",
      "Requirement already satisfied: scipy>=1.12 in /opt/anaconda3/lib/python3.12/site-packages (from jax->mediapipe) (1.13.1)\n",
      "Requirement already satisfied: contourpy>=1.0.1 in /opt/anaconda3/lib/python3.12/site-packages (from matplotlib->mediapipe) (1.2.0)\n",
      "Requirement already satisfied: cycler>=0.10 in /opt/anaconda3/lib/python3.12/site-packages (from matplotlib->mediapipe) (0.11.0)\n",
      "Requirement already satisfied: fonttools>=4.22.0 in /opt/anaconda3/lib/python3.12/site-packages (from matplotlib->mediapipe) (4.51.0)\n",
      "Requirement already satisfied: kiwisolver>=1.3.1 in /opt/anaconda3/lib/python3.12/site-packages (from matplotlib->mediapipe) (1.4.4)\n",
      "Requirement already satisfied: packaging>=20.0 in /opt/anaconda3/lib/python3.12/site-packages (from matplotlib->mediapipe) (23.2)\n",
      "Requirement already satisfied: pillow>=8 in /opt/anaconda3/lib/python3.12/site-packages (from matplotlib->mediapipe) (10.3.0)\n",
      "Requirement already satisfied: pyparsing>=2.3.1 in /opt/anaconda3/lib/python3.12/site-packages (from matplotlib->mediapipe) (3.0.9)\n",
      "Requirement already satisfied: python-dateutil>=2.7 in /opt/anaconda3/lib/python3.12/site-packages (from matplotlib->mediapipe) (2.9.0.post0)\n",
      "Requirement already satisfied: pycparser in /opt/anaconda3/lib/python3.12/site-packages (from CFFI>=1.0->sounddevice>=0.4.4->mediapipe) (2.21)\n",
      "Requirement already satisfied: six>=1.5 in /opt/anaconda3/lib/python3.12/site-packages (from python-dateutil>=2.7->matplotlib->mediapipe) (1.16.0)\n"
     ]
    }
   ],
   "source": [
    "!pip install mediapipe opencv-python numpy"
   ]
  },
  {
   "cell_type": "code",
   "execution_count": 3,
   "id": "869ae24e-bef1-4a85-b97c-3fe96d2fd64f",
   "metadata": {},
   "outputs": [],
   "source": [
    "import cv2\n",
    "import mediapipe as mp\n",
    "import numpy as np\n",
    "import math\n",
    "from enum import Enum\n",
    "import time"
   ]
  },
  {
   "cell_type": "code",
   "execution_count": 5,
   "id": "05833235-572a-4182-a7e6-c29d9ef95d41",
   "metadata": {},
   "outputs": [
    {
     "name": "stderr",
     "output_type": "stream",
     "text": [
      "WARNING: All log messages before absl::InitializeLog() is called are written to STDERR\n",
      "I0000 00:00:1755884971.466193 1371499 gl_context.cc:369] GL version: 2.1 (2.1 Metal - 89.4), renderer: Apple M4\n"
     ]
    }
   ],
   "source": [
    "# Initialize MediaPipe Pose\n",
    "mp_pose = mp.solutions.pose\n",
    "mp_drawing = mp.solutions.drawing_utils\n",
    "pose = mp_pose.Pose(min_detection_confidence=0.6, min_tracking_confidence=0.5)"
   ]
  },
  {
   "cell_type": "code",
   "execution_count": 7,
   "id": "6e118ae7-eb91-42ab-abd3-78e455cdbd85",
   "metadata": {},
   "outputs": [],
   "source": [
    "def debug_print_landmarks(landmarks):\n",
    "    \"\"\"\n",
    "    Print all relevant landmark positions for debugging\n",
    "    \"\"\"\n",
    "    print(\"\\n--- DEBUG: Landmark Positions ---\")\n",
    "\n",
    "    # Define key landmarks for this exercise\n",
    "    key_points = {\n",
    "        'LEFT_HIP': mp_pose.PoseLandmark.LEFT_HIP.value,\n",
    "        'RIGHT_HIP': mp_pose.PoseLandmark.RIGHT_HIP.value,\n",
    "        'LEFT_KNEE': mp_pose.PoseLandmark.LEFT_KNEE.value,\n",
    "        'RIGHT_KNEE': mp_pose.PoseLandmark.RIGHT_KNEE.value,\n",
    "        'LEFT_ANKLE': mp_pose.PoseLandmark.LEFT_ANKLE.value,\n",
    "        'RIGHT_ANKLE': mp_pose.PoseLandmark.RIGHT_ANKLE.value,\n",
    "        'LEFT_HEEL': mp_pose.PoseLandmark.LEFT_HEEL.value,\n",
    "        'RIGHT_HEEL': mp_pose.PoseLandmark.RIGHT_HEEL.value,\n",
    "        'LEFT_FOOT_INDEX': mp_pose.PoseLandmark.LEFT_FOOT_INDEX.value,\n",
    "        'RIGHT_FOOT_INDEX': mp_pose.PoseLandmark.RIGHT_FOOT_INDEX.value,\n",
    "        'LEFT_SHOULDER': mp_pose.PoseLandmark.LEFT_SHOULDER.value,\n",
    "        'RIGHT_SHOULDER': mp_pose.PoseLandmark.RIGHT_SHOULDER.value,\n",
    "        'LEFT_WRIST': mp_pose.PoseLandmark.LEFT_WRIST.value,\n",
    "        'RIGHT_WRIST': mp_pose.PoseLandmark.RIGHT_WRIST.value,\n",
    "        'LEFT_INDEX': mp_pose.PoseLandmark.LEFT_INDEX.value,\n",
    "        'RIGHT_INDEX': mp_pose.PoseLandmark.RIGHT_INDEX.value,\n",
    "    }\n",
    "\n",
    "    for name, idx in key_points.items():\n",
    "        landmark = landmarks[idx]\n",
    "        print(f\"{name}: x={landmark.x:.3f}, y={landmark.y:.3f}, z={landmark.z:.3f}, visibility={landmark.visibility:.3f}\")\n",
    "\n",
    "    # Calculate and print some useful measurements\n",
    "    print(\"\\n--- Calculated Values ---\")\n",
    "\n",
    "    # Hip height average\n",
    "    left_hip_y = landmarks[mp_pose.PoseLandmark.LEFT_HIP.value].y\n",
    "    right_hip_y = landmarks[mp_pose.PoseLandmark.RIGHT_HIP.value].y\n",
    "    avg_hip_y = (left_hip_y + right_hip_y) / 2\n",
    "    print(f\"Average Hip Height (Y): {avg_hip_y:.3f}\")\n",
    "\n",
    "    # Knee height average\n",
    "    left_knee_y = landmarks[mp_pose.PoseLandmark.LEFT_KNEE.value].y\n",
    "    right_knee_y = landmarks[mp_pose.PoseLandmark.RIGHT_KNEE.value].y\n",
    "    avg_knee_y = (left_knee_y + right_knee_y) / 2\n",
    "    print(f\"Average Knee Height (Y): {avg_knee_y:.3f}\")\n",
    "\n",
    "    # Ankle positions\n",
    "    left_ankle_y = landmarks[mp_pose.PoseLandmark.LEFT_ANKLE.value].y\n",
    "    right_ankle_y = landmarks[mp_pose.PoseLandmark.RIGHT_ANKLE.value].y\n",
    "    print(f\"Left Ankle Y: {left_ankle_y:.3f}, Right Ankle Y: {right_ankle_y:.3f}\")\n",
    "\n",
    "    # Hip to knee distance (normalized)\n",
    "    hip_knee_diff = avg_hip_y - avg_knee_y\n",
    "    print(f\"Hip-Knee Height Difference: {hip_knee_diff:.3f}\")\n",
    "\n",
    "    print(\"-\" * 40)"
   ]
  },
  {
   "cell_type": "code",
   "execution_count": 9,
   "id": "e0899075-1abc-401b-9dca-10875bf3a606",
   "metadata": {},
   "outputs": [],
   "source": [
    "# Define states for the flexibility test\n",
    "class TestState(Enum):\n",
    "    SITTING_CHECK = 1\n",
    "    FOOT_FLAT_CHECK = 2\n",
    "    LEG_EXTENDED_CHECK = 3\n",
    "    HANDS_POSITION_CHECK = 4\n",
    "    INHALE_PREPARATION = 5\n",
    "    FORWARD_REACH = 6\n",
    "    HOLD_POSITION = 7\n",
    "    MEASUREMENT = 8\n",
    "    COMPLETE = 9\n",
    "\n",
    "class FlexibilityTest:\n",
    "    def __init__(self):\n",
    "        self.current_state = TestState.SITTING_CHECK\n",
    "        self.state_passed = False\n",
    "        self.hold_timer = 0\n",
    "        self.hold_start_time = None\n",
    "        self.measurement_result = None\n",
    "        self.debug_enabled = False\n",
    "        self.advance = False\n",
    "\n",
    "    def get_state_message(self):\n",
    "        \"\"\"Get instruction message for current state\"\"\"\n",
    "        messages = {\n",
    "            TestState.SITTING_CHECK: \"Step 1: Please sit on the edge of a chair\",\n",
    "            TestState.FOOT_FLAT_CHECK: \"Step 2: Place one foot flat on the floor\",\n",
    "            TestState.LEG_EXTENDED_CHECK: \"Step 3: Extend other leg forward - knee straight, heel on floor, ankle at 90°\",\n",
    "            TestState.HANDS_POSITION_CHECK: \"Step 4: Place one hand on top of the other with middle fingers even\",\n",
    "            TestState.INHALE_PREPARATION: \"Step 5: Take a deep breath in\",\n",
    "            TestState.FORWARD_REACH: \"Step 6: Exhale and reach forward toward your toes\",\n",
    "            TestState.HOLD_POSITION: \"Step 7: Hold the position for 2 seconds\",\n",
    "            TestState.MEASUREMENT: \"Measuring flexibility...\",\n",
    "            TestState.COMPLETE: f\"Test complete! Result: {self.measurement_result}\"\n",
    "        }\n",
    "        return messages.get(self.current_state, \"\")\n",
    "\n",
    "    def advance_state(self):\n",
    "        \"\"\"Move to the next state\"\"\"\n",
    "        if self.current_state == TestState.SITTING_CHECK:\n",
    "            self.current_state = TestState.FOOT_FLAT_CHECK\n",
    "        elif self.current_state == TestState.FOOT_FLAT_CHECK:\n",
    "            self.current_state = TestState.LEG_EXTENDED_CHECK\n",
    "        elif self.current_state == TestState.LEG_EXTENDED_CHECK:\n",
    "            self.current_state = TestState.HANDS_POSITION_CHECK\n",
    "        elif self.current_state == TestState.HANDS_POSITION_CHECK:\n",
    "            self.current_state = TestState.INHALE_PREPARATION\n",
    "        elif self.current_state == TestState.INHALE_PREPARATION:\n",
    "            self.current_state = TestState.FORWARD_REACH\n",
    "        elif self.current_state == TestState.FORWARD_REACH:\n",
    "            self.current_state = TestState.HOLD_POSITION\n",
    "            self.hold_start_time = cv2.getTickCount()\n",
    "        elif self.current_state == TestState.HOLD_POSITION:\n",
    "            self.current_state = TestState.MEASUREMENT\n",
    "        elif self.current_state == TestState.MEASUREMENT:\n",
    "            self.current_state = TestState.COMPLETE\n",
    "\n",
    "    def reset_test(self):\n",
    "        \"\"\"Reset to beginning\"\"\"\n",
    "        self.current_state = TestState.SITTING_CHECK\n",
    "        self.state_passed = False\n",
    "        self.hold_timer = 0\n",
    "        self.hold_start_time = None\n",
    "        self.measurement_result = None"
   ]
  },
  {
   "cell_type": "code",
   "execution_count": 11,
   "id": "0ad8f606-d99e-4d7c-941d-bae4b16b0175",
   "metadata": {},
   "outputs": [],
   "source": [
    "# State check functions\n",
    "def check_sitting_position(landmarks):\n",
    "    \"\"\"Check if person is sitting based on hip and knee angles\"\"\"\n",
    "    left_hip = landmarks[mp_pose.PoseLandmark.LEFT_HIP.value]\n",
    "    right_hip = landmarks[mp_pose.PoseLandmark.RIGHT_HIP.value]\n",
    "    left_knee = landmarks[mp_pose.PoseLandmark.LEFT_KNEE.value]\n",
    "    right_knee = landmarks[mp_pose.PoseLandmark.RIGHT_KNEE.value]\n",
    "\n",
    "    avg_hip_y = (left_hip.y + right_hip.y) / 2\n",
    "    avg_knee_y = (left_knee.y + right_knee.y) / 2\n",
    "    hip_knee_distance = abs(avg_hip_y - avg_knee_y)\n",
    "\n",
    "    if hip_knee_distance < 0.15:\n",
    "        return True, \"Sitting position detected :)\"\n",
    "    else:\n",
    "        return False, \"Not sitting - please sit on edge of chair\""
   ]
  },
  {
   "cell_type": "code",
   "execution_count": 13,
   "id": "ffccf4d0-7839-4749-99b8-174ec4b2e577",
   "metadata": {},
   "outputs": [],
   "source": [
    "def check_foot_flat_on_floor(landmarks):\n",
    "    \"\"\"\n",
    "    Checks if at least one foot is flat by comparing heel and foot index Y positions.\n",
    "    \"\"\"\n",
    "    Y_TOL = 0.06  # tolerance for vertical alignment\n",
    "\n",
    "    def foot_flat(heel, toe):\n",
    "        return abs(heel.y - toe.y) < Y_TOL\n",
    "\n",
    "    # Left foot\n",
    "    left_flat = foot_flat(\n",
    "        landmarks[mp_pose.PoseLandmark.LEFT_HEEL.value],\n",
    "        landmarks[mp_pose.PoseLandmark.LEFT_FOOT_INDEX.value]\n",
    "    )\n",
    "\n",
    "    # Right foot\n",
    "    right_flat = foot_flat(\n",
    "        landmarks[mp_pose.PoseLandmark.RIGHT_HEEL.value],\n",
    "        landmarks[mp_pose.PoseLandmark.RIGHT_FOOT_INDEX.value]\n",
    "    )\n",
    "\n",
    "    if left_flat or right_flat:\n",
    "        return True, \"Foot is flat on the floor :)\"\n",
    "    else:\n",
    "        return False, \"Please place one foot flat on the floor\""
   ]
  },
  {
   "cell_type": "code",
   "execution_count": 15,
   "id": "d7c3b144-5fb0-491c-ad66-22c29c76d86f",
   "metadata": {},
   "outputs": [],
   "source": [
    "def calculate_angle_3d(a, b, c):\n",
    "    \"\"\"\n",
    "    Calculates the angle at point b in 3D given points a, b, c.\n",
    "    Each point is an object with .x, .y, .z attributes.\n",
    "    \"\"\"\n",
    "    # Vectors BA and BC\n",
    "    ba = (a.x - b.x, a.y - b.y, a.z - b.z)\n",
    "    bc = (c.x - b.x, c.y - b.y, c.z - b.z)\n",
    "\n",
    "    # Dot product and magnitudes\n",
    "    dot_product = ba[0]*bc[0] + ba[1]*bc[1] + ba[2]*bc[2]\n",
    "    mag_ba = math.sqrt(ba[0]**2 + ba[1]**2 + ba[2]**2)\n",
    "    mag_bc = math.sqrt(bc[0]**2 + bc[1]**2 + bc[2]**2)\n",
    "\n",
    "    if mag_ba == 0 or mag_bc == 0:\n",
    "        return 0\n",
    "\n",
    "    angle_rad = math.acos(max(min(dot_product / (mag_ba * mag_bc), 1.0), -1.0))\n",
    "    return math.degrees(angle_rad)\n",
    "\n",
    "def check_leg_extended(landmarks):\n",
    "    \"\"\"\n",
    "    Checks if either leg is straight using 3D hip-knee-ankle angle.\n",
    "    \"\"\"\n",
    "    lh, lk, la = landmarks[mp_pose.PoseLandmark.LEFT_HIP.value], landmarks[mp_pose.PoseLandmark.LEFT_KNEE.value], landmarks[mp_pose.PoseLandmark.LEFT_ANKLE.value]\n",
    "    rh, rk, ra = landmarks[mp_pose.PoseLandmark.RIGHT_HIP.value], landmarks[mp_pose.PoseLandmark.RIGHT_KNEE.value], landmarks[mp_pose.PoseLandmark.RIGHT_ANKLE.value]\n",
    "\n",
    "    left_knee_angle = calculate_angle_3d(lh, lk, la)\n",
    "    right_knee_angle = calculate_angle_3d(rh, rk, ra)\n",
    "\n",
    "    ANGLE_THRESHOLD = 80  # degrees\n",
    "\n",
    "    if left_knee_angle > ANGLE_THRESHOLD:\n",
    "        return True, f\"Left leg is straight ({left_knee_angle:.1f}°) :)\"\n",
    "    elif right_knee_angle > ANGLE_THRESHOLD:\n",
    "        return True, f\"Right leg is straight ({right_knee_angle:.1f}°) :)\"\n",
    "    else:\n",
    "        return False, f\"Please extend one leg straight (L:{left_knee_angle:.1f}, R:{right_knee_angle:.1f})\""
   ]
  },
  {
   "cell_type": "code",
   "execution_count": 17,
   "id": "56f076af-ece4-47cc-8c29-813de9b1acff",
   "metadata": {},
   "outputs": [],
   "source": [
    "def hand_center(hand_landmarks):\n",
    "    \"\"\"Calculate 3D center of wrist, index, and pinky\"\"\"\n",
    "    x = (hand_landmarks[0].x + hand_landmarks[1].x + hand_landmarks[2].x) / 3\n",
    "    y = (hand_landmarks[0].y + hand_landmarks[1].y + hand_landmarks[2].y) / 3\n",
    "    z = (hand_landmarks[0].z + hand_landmarks[1].z + hand_landmarks[2].z) / 3\n",
    "    return type('Point', (object,), {'x': x, 'y': y, 'z': z})()\n",
    "\n",
    "def check_hands_position(landmarks):\n",
    "    \"\"\"\n",
    "    Checks if one hand is on top of the other by comparing the center points\n",
    "    of wrist, index, and pinky.\n",
    "    \"\"\"\n",
    "    # Left hand landmarks\n",
    "    left_landmarks = [\n",
    "        landmarks[mp_pose.PoseLandmark.LEFT_WRIST.value],\n",
    "        landmarks[mp_pose.PoseLandmark.LEFT_INDEX.value],\n",
    "        landmarks[mp_pose.PoseLandmark.LEFT_PINKY.value]\n",
    "    ]\n",
    "    \n",
    "    # Right hand landmarks\n",
    "    right_landmarks = [\n",
    "        landmarks[mp_pose.PoseLandmark.RIGHT_WRIST.value],\n",
    "        landmarks[mp_pose.PoseLandmark.RIGHT_INDEX.value],\n",
    "        landmarks[mp_pose.PoseLandmark.RIGHT_PINKY.value]\n",
    "    ]\n",
    "    \n",
    "    # Calculate hand centers\n",
    "    left_center = hand_center(left_landmarks)\n",
    "    right_center = hand_center(right_landmarks)\n",
    "    \n",
    "    # Distance between centers\n",
    "    dist = math.sqrt((left_center.x - right_center.x)**2 +\n",
    "                     (left_center.y - right_center.y)**2 +\n",
    "                     (left_center.z - right_center.z)**2)\n",
    "    \n",
    "    # Threshold for \"hands together\"\n",
    "    DIST_THRESHOLD = 0.06\n",
    "    \n",
    "    if dist < DIST_THRESHOLD:\n",
    "        return True, f\"Hands positioned correctly :) (distance: {dist:.3f})\"\n",
    "    else:\n",
    "        return False, f\"Place one hand on top of the other (distance: {dist:.3f})\""
   ]
  },
  {
   "cell_type": "code",
   "execution_count": 19,
   "id": "111b1bad-4302-4f7c-be20-67f4441f3cf6",
   "metadata": {},
   "outputs": [],
   "source": [
    "def check_inhale(landmarks):\n",
    "    \"\"\"\n",
    "    Instructs the subject to inhale in preparation for forward reach.\n",
    "    Always passes after showing the instruction.\n",
    "    \"\"\"\n",
    "    return True, \"Inhale deeply... next, as you exhale, you'll reach forward.\""
   ]
  },
  {
   "cell_type": "code",
   "execution_count": 21,
   "id": "1c97ca3f-0eb0-4e0e-99dc-a2f64fb3eae9",
   "metadata": {},
   "outputs": [],
   "source": [
    "def check_forward_reach(landmarks):\n",
    "    # TODO: Implement\n",
    "    return False, \"Reach forward\""
   ]
  },
  {
   "cell_type": "code",
   "execution_count": 23,
   "id": "d6f9956d-be2e-4733-ab60-28da73925c23",
   "metadata": {},
   "outputs": [
    {
     "data": {
      "text/plain": [
       "'/Users/chandini'"
      ]
     },
     "execution_count": 23,
     "metadata": {},
     "output_type": "execute_result"
    }
   ],
   "source": [
    "import os\n",
    "os.getcwd()\n"
   ]
  },
  {
   "cell_type": "code",
   "execution_count": 27,
   "id": "dc289ecd-fb9a-4ba6-8fbf-4accdb74afc9",
   "metadata": {},
   "outputs": [
    {
     "data": {
      "text/plain": [
       "'/Users/chandini'"
      ]
     },
     "execution_count": 27,
     "metadata": {},
     "output_type": "execute_result"
    }
   ],
   "source": [
    "import os\n",
    "os.getcwd()\n"
   ]
  },
  {
   "cell_type": "code",
   "execution_count": null,
   "id": "1c610d80-1a2a-43c8-bf30-e2a7660ce0ce",
   "metadata": {},
   "outputs": [],
   "source": []
  }
 ],
 "metadata": {
  "kernelspec": {
   "display_name": "Python 3 (ipykernel)",
   "language": "python",
   "name": "python3"
  },
  "language_info": {
   "codemirror_mode": {
    "name": "ipython",
    "version": 3
   },
   "file_extension": ".py",
   "mimetype": "text/x-python",
   "name": "python",
   "nbconvert_exporter": "python",
   "pygments_lexer": "ipython3",
   "version": "3.12.4"
  }
 },
 "nbformat": 4,
 "nbformat_minor": 5
}
